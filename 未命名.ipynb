{
 "cells": [
  {
   "cell_type": "code",
   "execution_count": 2,
   "id": "7d359a4d-0511-45f7-a810-f0e84f1c8c79",
   "metadata": {},
   "outputs": [],
   "source": [
    "import re\n",
    "import ast\n",
    "def extract_answer(response, question_type):\n",
    "    if question_type == \"选择题\":\n",
    "        match = re.search(r'最终答案[是为]*：?\\s*\\[([A-D](?:,\\s*[A-D])*)\\]', response)\n",
    "        if match:\n",
    "            return [opt.strip() for opt in match.group(1).split(',')]\n",
    "        else:\n",
    "            return []\n",
    "    else:\n",
    "        match = re.search(r'最终答案[是为]*：\\s*(.+)', response, re.DOTALL)\n",
    "        if match:\n",
    "            return match.group(1).strip()\n",
    "        else:\n",
    "            return \"\""
   ]
  },
  {
   "cell_type": "code",
   "execution_count": 3,
   "id": "f523132f",
   "metadata": {},
   "outputs": [
    {
     "name": "stdout",
     "output_type": "stream",
     "text": [
      "查询已购人身保险的详细保单信息可通过以下方式：  \n",
      "1. 登录保险公司官网或手机APP，输入保单号及身份信息查询；  \n",
      "2. 拨打保险公司客服电话（如95567、95511），提供身份验证后由客服协助查询；  \n",
      "3. 携带身\n"
     ]
    }
   ],
   "source": [
    "x = '避免通过非官方渠道泄露敏感数据。  \\n\\n最终答案：  \\n查询已购人身保险的详细保单信息可通过以下方式：  \\n1. 登录保险公司官网或手机APP，输入保单号及身份信息查询；  \\n2. 拨打保险公司客服电话（如95567、95511），提供身份验证后由客服协助查询；  \\n3. 携带身'\n",
    "\n",
    "print(extract_answer(x, \"xxx\"))"
   ]
  },
  {
   "cell_type": "code",
   "execution_count": null,
   "id": "f29f0884",
   "metadata": {},
   "outputs": [],
   "source": [
    "import re\n",
    "import ast\n",
    "\n",
    "def extract_answer(response, question_type):\n",
    "    if question_type == \"选择题\":\n",
    "        match = re.search(r'最终答案[是为]*：?\\s*\\[([A-D](?:,\\s*[A-D])*)\\]', response)\n",
    "        if match:\n",
    "            return [opt.strip() for opt in match.group(1).split(',')]\n",
    "        else:\n",
    "            return []\n",
    "    else:\n",
    "        match = re.search(r'最终答案[是为]*：\\s*(.+)', response, re.DOTALL)\n",
    "        if match:\n",
    "            return match.group(1).strip()\n",
    "        else:\n",
    "            return \"\"\n",
    "\n",
    "x = '避免通过非官方渠道泄露敏感数据。  \\n\\n最终答案：  \\n查询已购人身保险的详细保单信息可通过以下方式：  \\n1. 登录保险公司官网或手机APP，输入保单号及身份信息查询；  \\n2. 拨打保险公司客服电话（如95567、95511），提供身份验证后由客服协助查询；  \\n3. 携带身'\n",
    "\n",
    "print(extract_answer(x, \"xxx\"))\n"
   ]
  }
 ],
 "metadata": {
  "kernelspec": {
   "display_name": "Python 3",
   "language": "python",
   "name": "python3"
  },
  "language_info": {
   "codemirror_mode": {
    "name": "ipython",
    "version": 3
   },
   "file_extension": ".py",
   "mimetype": "text/x-python",
   "name": "python",
   "nbconvert_exporter": "python",
   "pygments_lexer": "ipython3",
   "version": "3.11.11"
  },
  "vscode": {
   "interpreter": {
    "hash": "949777d72b0d2535278d3dc13498b2535136f6dfe0678499012e853ee9abcab1"
   }
  }
 },
 "nbformat": 4,
 "nbformat_minor": 5
}
